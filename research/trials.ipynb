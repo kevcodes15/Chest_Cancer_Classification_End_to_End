{
 "cells": [
  {
   "cell_type": "markdown",
   "metadata": {},
   "source": [
    "### Download data from gdrive"
   ]
  },
  {
   "cell_type": "code",
   "execution_count": 15,
   "metadata": {},
   "outputs": [],
   "source": [
    "import gdown"
   ]
  },
  {
   "cell_type": "code",
   "execution_count": 16,
   "metadata": {},
   "outputs": [],
   "source": [
    "url = \"https://drive.google.com/file/d/1rm15YSVv2gETG4jDvFD-ZaJO-IsQhXn1/view?usp=sharing\""
   ]
  },
  {
   "cell_type": "code",
   "execution_count": 17,
   "metadata": {},
   "outputs": [
    {
     "data": {
      "text/plain": [
       "'1rm15YSVv2gETG4jDvFD-ZaJO-IsQhXn1'"
      ]
     },
     "execution_count": 17,
     "metadata": {},
     "output_type": "execute_result"
    }
   ],
   "source": [
    "file_id = url.split(\"/\")[-2]\n",
    "file_id"
   ]
  },
  {
   "cell_type": "code",
   "execution_count": 20,
   "metadata": {},
   "outputs": [
    {
     "name": "stderr",
     "output_type": "stream",
     "text": [
      "Downloading...\n",
      "From (original): https://drive.google.com/uc?/export=download&id=1rm15YSVv2gETG4jDvFD-ZaJO-IsQhXn1\n",
      "From (redirected): https://drive.google.com/uc?%2Fexport=download&id=1rm15YSVv2gETG4jDvFD-ZaJO-IsQhXn1&confirm=t&uuid=55b7b309-3677-41ae-b9d7-bf4c6e79bc1e\n",
      "To: c:\\Projects\\Chest_Cancer_Classification_End_to_End\\research\\Chest-CT-Scan-dataset.zip\n",
      "100%|██████████| 49.0M/49.0M [01:23<00:00, 585kB/s]\n"
     ]
    },
    {
     "data": {
      "text/plain": [
       "'Chest-CT-Scan-dataset.zip'"
      ]
     },
     "execution_count": 20,
     "metadata": {},
     "output_type": "execute_result"
    }
   ],
   "source": [
    "prefix = \"https://drive.google.com/uc?/export=download&id=\"\n",
    "\n",
    "gdown.download(prefix+file_id, \"Chest-CT-Scan-dataset.zip\")"
   ]
  }
 ],
 "metadata": {
  "kernelspec": {
   "display_name": "chest-cancer",
   "language": "python",
   "name": "python3"
  },
  "language_info": {
   "codemirror_mode": {
    "name": "ipython",
    "version": 3
   },
   "file_extension": ".py",
   "mimetype": "text/x-python",
   "name": "python",
   "nbconvert_exporter": "python",
   "pygments_lexer": "ipython3",
   "version": "3.8.19"
  }
 },
 "nbformat": 4,
 "nbformat_minor": 2
}
